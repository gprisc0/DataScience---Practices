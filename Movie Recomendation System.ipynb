{
 "cells": [
  {
   "cell_type": "markdown",
   "id": "99c03281-5a25-483b-8d83-48a879b92dec",
   "metadata": {
    "editable": true,
    "slideshow": {
     "slide_type": ""
    },
    "tags": []
   },
   "source": [
    "# Movies Recommender System"
   ]
  },
  {
   "cell_type": "code",
   "execution_count": 1,
   "id": "b7cba45c-d5f6-4b94-b57f-facfdee92fb3",
   "metadata": {
    "editable": true,
    "slideshow": {
     "slide_type": ""
    },
    "tags": []
   },
   "outputs": [],
   "source": [
    "%matplotlib inline\n",
    "import pandas as pd\n",
    "import numpy as np\n",
    "import matplotlib.pyplot as plt\n",
    "import seaborn as sns\n",
    "from scipy import stats\n",
    "from ast import literal_eval\n",
    "from sklearn.feature_extraction.text import TfidfVectorizer, CountVectorizer\n",
    "from sklearn.metrics.pairwise import linear_kernel, cosine_similarity\n",
    "from nltk.stem.snowball import SnowballStemmer\n",
    "from nltk.tokenize import word_tokenize\n",
    "from nltk.stem.wordnet import WordNetLemmatizer\n",
    "from nltk.corpus import wordnet,stopwords\n",
    "from surprise import Reader, Dataset, SVD\n",
    "\n",
    "import warnings; warnings.simplefilter('ignore') "
   ]
  },
  {
   "cell_type": "code",
   "execution_count": 2,
   "id": "4b381927-208d-4d56-9e18-27d03b1903c0",
   "metadata": {
    "editable": true,
    "slideshow": {
     "slide_type": ""
    },
    "tags": []
   },
   "outputs": [
    {
     "data": {
      "text/html": [
       "<div>\n",
       "<style scoped>\n",
       "    .dataframe tbody tr th:only-of-type {\n",
       "        vertical-align: middle;\n",
       "    }\n",
       "\n",
       "    .dataframe tbody tr th {\n",
       "        vertical-align: top;\n",
       "    }\n",
       "\n",
       "    .dataframe thead th {\n",
       "        text-align: right;\n",
       "    }\n",
       "</style>\n",
       "<table border=\"1\" class=\"dataframe\">\n",
       "  <thead>\n",
       "    <tr style=\"text-align: right;\">\n",
       "      <th></th>\n",
       "      <th>adult</th>\n",
       "      <th>belongs_to_collection</th>\n",
       "      <th>budget</th>\n",
       "      <th>genres</th>\n",
       "      <th>homepage</th>\n",
       "      <th>id</th>\n",
       "      <th>imdb_id</th>\n",
       "      <th>original_language</th>\n",
       "      <th>original_title</th>\n",
       "      <th>overview</th>\n",
       "      <th>...</th>\n",
       "      <th>release_date</th>\n",
       "      <th>revenue</th>\n",
       "      <th>runtime</th>\n",
       "      <th>spoken_languages</th>\n",
       "      <th>status</th>\n",
       "      <th>tagline</th>\n",
       "      <th>title</th>\n",
       "      <th>video</th>\n",
       "      <th>vote_average</th>\n",
       "      <th>vote_count</th>\n",
       "    </tr>\n",
       "  </thead>\n",
       "  <tbody>\n",
       "    <tr>\n",
       "      <th>0</th>\n",
       "      <td>False</td>\n",
       "      <td>{'id': 10194, 'name': 'Toy Story Collection', ...</td>\n",
       "      <td>30000000</td>\n",
       "      <td>[{'id': 16, 'name': 'Animation'}, {'id': 35, '...</td>\n",
       "      <td>http://toystory.disney.com/toy-story</td>\n",
       "      <td>862</td>\n",
       "      <td>tt0114709</td>\n",
       "      <td>en</td>\n",
       "      <td>Toy Story</td>\n",
       "      <td>Led by Woody, Andy's toys live happily in his ...</td>\n",
       "      <td>...</td>\n",
       "      <td>1995-10-30</td>\n",
       "      <td>373554033.0</td>\n",
       "      <td>81.0</td>\n",
       "      <td>[{'iso_639_1': 'en', 'name': 'English'}]</td>\n",
       "      <td>Released</td>\n",
       "      <td>NaN</td>\n",
       "      <td>Toy Story</td>\n",
       "      <td>False</td>\n",
       "      <td>7.7</td>\n",
       "      <td>5415.0</td>\n",
       "    </tr>\n",
       "    <tr>\n",
       "      <th>1</th>\n",
       "      <td>False</td>\n",
       "      <td>NaN</td>\n",
       "      <td>65000000</td>\n",
       "      <td>[{'id': 12, 'name': 'Adventure'}, {'id': 14, '...</td>\n",
       "      <td>NaN</td>\n",
       "      <td>8844</td>\n",
       "      <td>tt0113497</td>\n",
       "      <td>en</td>\n",
       "      <td>Jumanji</td>\n",
       "      <td>When siblings Judy and Peter discover an encha...</td>\n",
       "      <td>...</td>\n",
       "      <td>1995-12-15</td>\n",
       "      <td>262797249.0</td>\n",
       "      <td>104.0</td>\n",
       "      <td>[{'iso_639_1': 'en', 'name': 'English'}, {'iso...</td>\n",
       "      <td>Released</td>\n",
       "      <td>Roll the dice and unleash the excitement!</td>\n",
       "      <td>Jumanji</td>\n",
       "      <td>False</td>\n",
       "      <td>6.9</td>\n",
       "      <td>2413.0</td>\n",
       "    </tr>\n",
       "    <tr>\n",
       "      <th>2</th>\n",
       "      <td>False</td>\n",
       "      <td>{'id': 119050, 'name': 'Grumpy Old Men Collect...</td>\n",
       "      <td>0</td>\n",
       "      <td>[{'id': 10749, 'name': 'Romance'}, {'id': 35, ...</td>\n",
       "      <td>NaN</td>\n",
       "      <td>15602</td>\n",
       "      <td>tt0113228</td>\n",
       "      <td>en</td>\n",
       "      <td>Grumpier Old Men</td>\n",
       "      <td>A family wedding reignites the ancient feud be...</td>\n",
       "      <td>...</td>\n",
       "      <td>1995-12-22</td>\n",
       "      <td>0.0</td>\n",
       "      <td>101.0</td>\n",
       "      <td>[{'iso_639_1': 'en', 'name': 'English'}]</td>\n",
       "      <td>Released</td>\n",
       "      <td>Still Yelling. Still Fighting. Still Ready for...</td>\n",
       "      <td>Grumpier Old Men</td>\n",
       "      <td>False</td>\n",
       "      <td>6.5</td>\n",
       "      <td>92.0</td>\n",
       "    </tr>\n",
       "    <tr>\n",
       "      <th>3</th>\n",
       "      <td>False</td>\n",
       "      <td>NaN</td>\n",
       "      <td>16000000</td>\n",
       "      <td>[{'id': 35, 'name': 'Comedy'}, {'id': 18, 'nam...</td>\n",
       "      <td>NaN</td>\n",
       "      <td>31357</td>\n",
       "      <td>tt0114885</td>\n",
       "      <td>en</td>\n",
       "      <td>Waiting to Exhale</td>\n",
       "      <td>Cheated on, mistreated and stepped on, the wom...</td>\n",
       "      <td>...</td>\n",
       "      <td>1995-12-22</td>\n",
       "      <td>81452156.0</td>\n",
       "      <td>127.0</td>\n",
       "      <td>[{'iso_639_1': 'en', 'name': 'English'}]</td>\n",
       "      <td>Released</td>\n",
       "      <td>Friends are the people who let you be yourself...</td>\n",
       "      <td>Waiting to Exhale</td>\n",
       "      <td>False</td>\n",
       "      <td>6.1</td>\n",
       "      <td>34.0</td>\n",
       "    </tr>\n",
       "    <tr>\n",
       "      <th>4</th>\n",
       "      <td>False</td>\n",
       "      <td>{'id': 96871, 'name': 'Father of the Bride Col...</td>\n",
       "      <td>0</td>\n",
       "      <td>[{'id': 35, 'name': 'Comedy'}]</td>\n",
       "      <td>NaN</td>\n",
       "      <td>11862</td>\n",
       "      <td>tt0113041</td>\n",
       "      <td>en</td>\n",
       "      <td>Father of the Bride Part II</td>\n",
       "      <td>Just when George Banks has recovered from his ...</td>\n",
       "      <td>...</td>\n",
       "      <td>1995-02-10</td>\n",
       "      <td>76578911.0</td>\n",
       "      <td>106.0</td>\n",
       "      <td>[{'iso_639_1': 'en', 'name': 'English'}]</td>\n",
       "      <td>Released</td>\n",
       "      <td>Just When His World Is Back To Normal... He's ...</td>\n",
       "      <td>Father of the Bride Part II</td>\n",
       "      <td>False</td>\n",
       "      <td>5.7</td>\n",
       "      <td>173.0</td>\n",
       "    </tr>\n",
       "  </tbody>\n",
       "</table>\n",
       "<p>5 rows × 24 columns</p>\n",
       "</div>"
      ],
      "text/plain": [
       "   adult                              belongs_to_collection    budget  \\\n",
       "0  False  {'id': 10194, 'name': 'Toy Story Collection', ...  30000000   \n",
       "1  False                                                NaN  65000000   \n",
       "2  False  {'id': 119050, 'name': 'Grumpy Old Men Collect...         0   \n",
       "3  False                                                NaN  16000000   \n",
       "4  False  {'id': 96871, 'name': 'Father of the Bride Col...         0   \n",
       "\n",
       "                                              genres  \\\n",
       "0  [{'id': 16, 'name': 'Animation'}, {'id': 35, '...   \n",
       "1  [{'id': 12, 'name': 'Adventure'}, {'id': 14, '...   \n",
       "2  [{'id': 10749, 'name': 'Romance'}, {'id': 35, ...   \n",
       "3  [{'id': 35, 'name': 'Comedy'}, {'id': 18, 'nam...   \n",
       "4                     [{'id': 35, 'name': 'Comedy'}]   \n",
       "\n",
       "                               homepage     id    imdb_id original_language  \\\n",
       "0  http://toystory.disney.com/toy-story    862  tt0114709                en   \n",
       "1                                   NaN   8844  tt0113497                en   \n",
       "2                                   NaN  15602  tt0113228                en   \n",
       "3                                   NaN  31357  tt0114885                en   \n",
       "4                                   NaN  11862  tt0113041                en   \n",
       "\n",
       "                original_title  \\\n",
       "0                    Toy Story   \n",
       "1                      Jumanji   \n",
       "2             Grumpier Old Men   \n",
       "3            Waiting to Exhale   \n",
       "4  Father of the Bride Part II   \n",
       "\n",
       "                                            overview  ... release_date  \\\n",
       "0  Led by Woody, Andy's toys live happily in his ...  ...   1995-10-30   \n",
       "1  When siblings Judy and Peter discover an encha...  ...   1995-12-15   \n",
       "2  A family wedding reignites the ancient feud be...  ...   1995-12-22   \n",
       "3  Cheated on, mistreated and stepped on, the wom...  ...   1995-12-22   \n",
       "4  Just when George Banks has recovered from his ...  ...   1995-02-10   \n",
       "\n",
       "       revenue runtime                                   spoken_languages  \\\n",
       "0  373554033.0    81.0           [{'iso_639_1': 'en', 'name': 'English'}]   \n",
       "1  262797249.0   104.0  [{'iso_639_1': 'en', 'name': 'English'}, {'iso...   \n",
       "2          0.0   101.0           [{'iso_639_1': 'en', 'name': 'English'}]   \n",
       "3   81452156.0   127.0           [{'iso_639_1': 'en', 'name': 'English'}]   \n",
       "4   76578911.0   106.0           [{'iso_639_1': 'en', 'name': 'English'}]   \n",
       "\n",
       "     status                                            tagline  \\\n",
       "0  Released                                                NaN   \n",
       "1  Released          Roll the dice and unleash the excitement!   \n",
       "2  Released  Still Yelling. Still Fighting. Still Ready for...   \n",
       "3  Released  Friends are the people who let you be yourself...   \n",
       "4  Released  Just When His World Is Back To Normal... He's ...   \n",
       "\n",
       "                         title  video vote_average vote_count  \n",
       "0                    Toy Story  False          7.7     5415.0  \n",
       "1                      Jumanji  False          6.9     2413.0  \n",
       "2             Grumpier Old Men  False          6.5       92.0  \n",
       "3            Waiting to Exhale  False          6.1       34.0  \n",
       "4  Father of the Bride Part II  False          5.7      173.0  \n",
       "\n",
       "[5 rows x 24 columns]"
      ]
     },
     "execution_count": 2,
     "metadata": {},
     "output_type": "execute_result"
    }
   ],
   "source": [
    "movies_df = pd. read_csv('movies_metadata.csv')\n",
    "movies_df.head()"
   ]
  },
  {
   "cell_type": "code",
   "execution_count": 3,
   "id": "0def1996-c770-49d8-979c-ff1e81e52337",
   "metadata": {},
   "outputs": [
    {
     "data": {
      "text/html": [
       "<div>\n",
       "<style scoped>\n",
       "    .dataframe tbody tr th:only-of-type {\n",
       "        vertical-align: middle;\n",
       "    }\n",
       "\n",
       "    .dataframe tbody tr th {\n",
       "        vertical-align: top;\n",
       "    }\n",
       "\n",
       "    .dataframe thead th {\n",
       "        text-align: right;\n",
       "    }\n",
       "</style>\n",
       "<table border=\"1\" class=\"dataframe\">\n",
       "  <thead>\n",
       "    <tr style=\"text-align: right;\">\n",
       "      <th></th>\n",
       "      <th>adult</th>\n",
       "      <th>belongs_to_collection</th>\n",
       "      <th>budget</th>\n",
       "      <th>genres</th>\n",
       "      <th>homepage</th>\n",
       "      <th>id</th>\n",
       "      <th>imdb_id</th>\n",
       "      <th>original_language</th>\n",
       "      <th>original_title</th>\n",
       "      <th>overview</th>\n",
       "      <th>...</th>\n",
       "      <th>release_date</th>\n",
       "      <th>revenue</th>\n",
       "      <th>runtime</th>\n",
       "      <th>spoken_languages</th>\n",
       "      <th>status</th>\n",
       "      <th>tagline</th>\n",
       "      <th>title</th>\n",
       "      <th>video</th>\n",
       "      <th>vote_average</th>\n",
       "      <th>vote_count</th>\n",
       "    </tr>\n",
       "  </thead>\n",
       "  <tbody>\n",
       "    <tr>\n",
       "      <th>0</th>\n",
       "      <td>False</td>\n",
       "      <td>{'id': 10194, 'name': 'Toy Story Collection', ...</td>\n",
       "      <td>30000000</td>\n",
       "      <td>[Animation, Comedy, Family]</td>\n",
       "      <td>http://toystory.disney.com/toy-story</td>\n",
       "      <td>862</td>\n",
       "      <td>tt0114709</td>\n",
       "      <td>en</td>\n",
       "      <td>Toy Story</td>\n",
       "      <td>Led by Woody, Andy's toys live happily in his ...</td>\n",
       "      <td>...</td>\n",
       "      <td>1995-10-30</td>\n",
       "      <td>373554033.0</td>\n",
       "      <td>81.0</td>\n",
       "      <td>[{'iso_639_1': 'en', 'name': 'English'}]</td>\n",
       "      <td>Released</td>\n",
       "      <td>NaN</td>\n",
       "      <td>Toy Story</td>\n",
       "      <td>False</td>\n",
       "      <td>7.7</td>\n",
       "      <td>5415.0</td>\n",
       "    </tr>\n",
       "    <tr>\n",
       "      <th>1</th>\n",
       "      <td>False</td>\n",
       "      <td>NaN</td>\n",
       "      <td>65000000</td>\n",
       "      <td>[Adventure, Fantasy, Family]</td>\n",
       "      <td>NaN</td>\n",
       "      <td>8844</td>\n",
       "      <td>tt0113497</td>\n",
       "      <td>en</td>\n",
       "      <td>Jumanji</td>\n",
       "      <td>When siblings Judy and Peter discover an encha...</td>\n",
       "      <td>...</td>\n",
       "      <td>1995-12-15</td>\n",
       "      <td>262797249.0</td>\n",
       "      <td>104.0</td>\n",
       "      <td>[{'iso_639_1': 'en', 'name': 'English'}, {'iso...</td>\n",
       "      <td>Released</td>\n",
       "      <td>Roll the dice and unleash the excitement!</td>\n",
       "      <td>Jumanji</td>\n",
       "      <td>False</td>\n",
       "      <td>6.9</td>\n",
       "      <td>2413.0</td>\n",
       "    </tr>\n",
       "    <tr>\n",
       "      <th>2</th>\n",
       "      <td>False</td>\n",
       "      <td>{'id': 119050, 'name': 'Grumpy Old Men Collect...</td>\n",
       "      <td>0</td>\n",
       "      <td>[Romance, Comedy]</td>\n",
       "      <td>NaN</td>\n",
       "      <td>15602</td>\n",
       "      <td>tt0113228</td>\n",
       "      <td>en</td>\n",
       "      <td>Grumpier Old Men</td>\n",
       "      <td>A family wedding reignites the ancient feud be...</td>\n",
       "      <td>...</td>\n",
       "      <td>1995-12-22</td>\n",
       "      <td>0.0</td>\n",
       "      <td>101.0</td>\n",
       "      <td>[{'iso_639_1': 'en', 'name': 'English'}]</td>\n",
       "      <td>Released</td>\n",
       "      <td>Still Yelling. Still Fighting. Still Ready for...</td>\n",
       "      <td>Grumpier Old Men</td>\n",
       "      <td>False</td>\n",
       "      <td>6.5</td>\n",
       "      <td>92.0</td>\n",
       "    </tr>\n",
       "    <tr>\n",
       "      <th>3</th>\n",
       "      <td>False</td>\n",
       "      <td>NaN</td>\n",
       "      <td>16000000</td>\n",
       "      <td>[Comedy, Drama, Romance]</td>\n",
       "      <td>NaN</td>\n",
       "      <td>31357</td>\n",
       "      <td>tt0114885</td>\n",
       "      <td>en</td>\n",
       "      <td>Waiting to Exhale</td>\n",
       "      <td>Cheated on, mistreated and stepped on, the wom...</td>\n",
       "      <td>...</td>\n",
       "      <td>1995-12-22</td>\n",
       "      <td>81452156.0</td>\n",
       "      <td>127.0</td>\n",
       "      <td>[{'iso_639_1': 'en', 'name': 'English'}]</td>\n",
       "      <td>Released</td>\n",
       "      <td>Friends are the people who let you be yourself...</td>\n",
       "      <td>Waiting to Exhale</td>\n",
       "      <td>False</td>\n",
       "      <td>6.1</td>\n",
       "      <td>34.0</td>\n",
       "    </tr>\n",
       "    <tr>\n",
       "      <th>4</th>\n",
       "      <td>False</td>\n",
       "      <td>{'id': 96871, 'name': 'Father of the Bride Col...</td>\n",
       "      <td>0</td>\n",
       "      <td>[Comedy]</td>\n",
       "      <td>NaN</td>\n",
       "      <td>11862</td>\n",
       "      <td>tt0113041</td>\n",
       "      <td>en</td>\n",
       "      <td>Father of the Bride Part II</td>\n",
       "      <td>Just when George Banks has recovered from his ...</td>\n",
       "      <td>...</td>\n",
       "      <td>1995-02-10</td>\n",
       "      <td>76578911.0</td>\n",
       "      <td>106.0</td>\n",
       "      <td>[{'iso_639_1': 'en', 'name': 'English'}]</td>\n",
       "      <td>Released</td>\n",
       "      <td>Just When His World Is Back To Normal... He's ...</td>\n",
       "      <td>Father of the Bride Part II</td>\n",
       "      <td>False</td>\n",
       "      <td>5.7</td>\n",
       "      <td>173.0</td>\n",
       "    </tr>\n",
       "  </tbody>\n",
       "</table>\n",
       "<p>5 rows × 24 columns</p>\n",
       "</div>"
      ],
      "text/plain": [
       "   adult                              belongs_to_collection    budget  \\\n",
       "0  False  {'id': 10194, 'name': 'Toy Story Collection', ...  30000000   \n",
       "1  False                                                NaN  65000000   \n",
       "2  False  {'id': 119050, 'name': 'Grumpy Old Men Collect...         0   \n",
       "3  False                                                NaN  16000000   \n",
       "4  False  {'id': 96871, 'name': 'Father of the Bride Col...         0   \n",
       "\n",
       "                         genres                              homepage     id  \\\n",
       "0   [Animation, Comedy, Family]  http://toystory.disney.com/toy-story    862   \n",
       "1  [Adventure, Fantasy, Family]                                   NaN   8844   \n",
       "2             [Romance, Comedy]                                   NaN  15602   \n",
       "3      [Comedy, Drama, Romance]                                   NaN  31357   \n",
       "4                      [Comedy]                                   NaN  11862   \n",
       "\n",
       "     imdb_id original_language               original_title  \\\n",
       "0  tt0114709                en                    Toy Story   \n",
       "1  tt0113497                en                      Jumanji   \n",
       "2  tt0113228                en             Grumpier Old Men   \n",
       "3  tt0114885                en            Waiting to Exhale   \n",
       "4  tt0113041                en  Father of the Bride Part II   \n",
       "\n",
       "                                            overview  ... release_date  \\\n",
       "0  Led by Woody, Andy's toys live happily in his ...  ...   1995-10-30   \n",
       "1  When siblings Judy and Peter discover an encha...  ...   1995-12-15   \n",
       "2  A family wedding reignites the ancient feud be...  ...   1995-12-22   \n",
       "3  Cheated on, mistreated and stepped on, the wom...  ...   1995-12-22   \n",
       "4  Just when George Banks has recovered from his ...  ...   1995-02-10   \n",
       "\n",
       "       revenue runtime                                   spoken_languages  \\\n",
       "0  373554033.0    81.0           [{'iso_639_1': 'en', 'name': 'English'}]   \n",
       "1  262797249.0   104.0  [{'iso_639_1': 'en', 'name': 'English'}, {'iso...   \n",
       "2          0.0   101.0           [{'iso_639_1': 'en', 'name': 'English'}]   \n",
       "3   81452156.0   127.0           [{'iso_639_1': 'en', 'name': 'English'}]   \n",
       "4   76578911.0   106.0           [{'iso_639_1': 'en', 'name': 'English'}]   \n",
       "\n",
       "     status                                            tagline  \\\n",
       "0  Released                                                NaN   \n",
       "1  Released          Roll the dice and unleash the excitement!   \n",
       "2  Released  Still Yelling. Still Fighting. Still Ready for...   \n",
       "3  Released  Friends are the people who let you be yourself...   \n",
       "4  Released  Just When His World Is Back To Normal... He's ...   \n",
       "\n",
       "                         title  video vote_average vote_count  \n",
       "0                    Toy Story  False          7.7     5415.0  \n",
       "1                      Jumanji  False          6.9     2413.0  \n",
       "2             Grumpier Old Men  False          6.5       92.0  \n",
       "3            Waiting to Exhale  False          6.1       34.0  \n",
       "4  Father of the Bride Part II  False          5.7      173.0  \n",
       "\n",
       "[5 rows x 24 columns]"
      ]
     },
     "execution_count": 3,
     "metadata": {},
     "output_type": "execute_result"
    }
   ],
   "source": [
    "movies_df['genres'] = movies_df['genres'].fillna('[]').apply(literal_eval).apply(lambda x: [i['name'] for i in x] if isinstance(x, list) else [])\n",
    "movies_df.head() # Ajustando coluna Gêneros"
   ]
  },
  {
   "cell_type": "code",
   "execution_count": 4,
   "id": "8517b6d0-6fa3-4f8c-bb13-9573c38aa42d",
   "metadata": {},
   "outputs": [],
   "source": [
    "movies_df['year'] = pd.to_datetime(movies_df['release_date'], errors='coerce').apply(lambda x: str(x).split('-')[0] if x != np.nan else np.nan) #definindo coluna com Ano"
   ]
  },
  {
   "cell_type": "code",
   "execution_count": 5,
   "id": "6d39d356-8483-4f6c-8ce9-d6a7ce57ab7f",
   "metadata": {},
   "outputs": [],
   "source": [
    "# Ler banco de dados com menos filmes, devido ao limite de processamento do computador\n",
    "links_small = pd.read_csv('links_small.csv')\n",
    "links_small = links_small[links_small['tmdbId'].notnull()]['tmdbId'].astype('int')"
   ]
  },
  {
   "cell_type": "code",
   "execution_count": 6,
   "id": "85f3e2d6-12a8-4a53-80eb-4f5eabf2cbcf",
   "metadata": {},
   "outputs": [
    {
     "data": {
      "text/plain": [
       "(9099, 25)"
      ]
     },
     "execution_count": 6,
     "metadata": {},
     "output_type": "execute_result"
    }
   ],
   "source": [
    "movies_df = movies_df.drop([19730, 29503, 35587]) # tirando linhas problemáticas (na values etc)\n",
    "movies_df['id'] = movies_df['id'].astype('int')\n",
    "small_df = movies_df[movies_df['id'].isin(links_small)]\n",
    "small_df.shape"
   ]
  },
  {
   "cell_type": "markdown",
   "id": "01ed48d9-7b75-4c06-9784-0e78e0bc8086",
   "metadata": {},
   "source": [
    "## Funções de Pré-Processamento de Texto"
   ]
  },
  {
   "cell_type": "code",
   "execution_count": 7,
   "id": "94756d9d-0836-4e37-97f6-3e96e622fa2b",
   "metadata": {},
   "outputs": [],
   "source": [
    "def process_text(text):  \n",
    "    # Tokenização  \n",
    "    tokens = word_tokenize(text.lower())  \n",
    "    # Remover stopwords e não alfabéticos  \n",
    "    tokens = [word for word in tokens if word.isalpha() and word not in stopwords.words('english')]  \n",
    "    # Lematização  \n",
    "    lemmatizer = WordNetLemmatizer()  \n",
    "    lemmatized = [lemmatizer.lemmatize(word) for word in tokens]  \n",
    "    return ' '.join(lemmatized)  "
   ]
  },
  {
   "cell_type": "markdown",
   "id": "40855fec-6a1e-4a9f-8ccb-a19112d0d2f4",
   "metadata": {},
   "source": [
    "## Carregando Metadados (keywords, Diretor e Atores)"
   ]
  },
  {
   "cell_type": "code",
   "execution_count": 8,
   "id": "0529677e-332c-4094-b92c-ab9a9d45cb36",
   "metadata": {},
   "outputs": [
    {
     "data": {
      "text/plain": [
       "(45463, 25)"
      ]
     },
     "execution_count": 8,
     "metadata": {},
     "output_type": "execute_result"
    }
   ],
   "source": [
    "credits = pd.read_csv('credits.csv')\n",
    "keywords = pd.read_csv('keywords.csv')\n",
    "keywords['id'] = keywords['id'].astype('int')\n",
    "credits['id'] = credits['id'].astype('int')\n",
    "movies_df['id'] = movies_df['id'].astype('int')\n",
    "movies_df.shape"
   ]
  },
  {
   "cell_type": "markdown",
   "id": "6f2e7b08-19b9-4517-a42d-3681b15c2bbd",
   "metadata": {},
   "source": [
    "Juntando os dataframes em um só:"
   ]
  },
  {
   "cell_type": "code",
   "execution_count": 9,
   "id": "83f34458-f16e-4181-8620-cc614873eb44",
   "metadata": {},
   "outputs": [
    {
     "data": {
      "text/plain": [
       "(9219, 28)"
      ]
     },
     "execution_count": 9,
     "metadata": {},
     "output_type": "execute_result"
    }
   ],
   "source": [
    "movies_df = movies_df.merge(credits, on='id')\n",
    "movies_df = movies_df.merge(keywords, on='id')\n",
    "small_df = movies_df[movies_df['id'].isin(links_small)]\n",
    "small_df.shape"
   ]
  },
  {
   "cell_type": "markdown",
   "id": "fb3637df-8d3e-4bcb-927c-90c0e3ec02be",
   "metadata": {},
   "source": [
    "Adicionando coluna de Descrição"
   ]
  },
  {
   "cell_type": "code",
   "execution_count": 10,
   "id": "fbba8907-d030-4266-b0e3-7cc05cc13fd8",
   "metadata": {},
   "outputs": [],
   "source": [
    "# Adicionando coluna de Descrição\n",
    "small_df['tagline'] = small_df['tagline'].fillna('')\n",
    "small_df['description'] = small_df['overview'] + small_df['tagline']\n",
    "small_df['description'] = small_df['description'].fillna('')"
   ]
  },
  {
   "cell_type": "markdown",
   "id": "bb1de7e4-d23b-4ef1-8d28-f40b3a1101e6",
   "metadata": {},
   "source": [
    "## Data Wrangling dos campos de metadados"
   ]
  },
  {
   "cell_type": "code",
   "execution_count": 11,
   "id": "995fa6c9-6123-4fbf-8fab-6b91c1ec412c",
   "metadata": {},
   "outputs": [],
   "source": [
    "small_df['cast'] = small_df['cast'].apply(literal_eval)\n",
    "small_df['crew'] = small_df['crew'].apply(literal_eval)\n",
    "small_df['keywords'] = small_df['keywords'].apply(literal_eval)\n",
    "small_df['cast_size'] = small_df['cast'].apply(lambda x: len(x))\n",
    "small_df['crew_size'] = small_df['crew'].apply(lambda x: len(x))"
   ]
  },
  {
   "cell_type": "code",
   "execution_count": 12,
   "id": "62c49cc1-71d0-45fe-ba3f-f9416853c5cd",
   "metadata": {
    "editable": true,
    "slideshow": {
     "slide_type": ""
    },
    "tags": []
   },
   "outputs": [],
   "source": [
    "def get_director(x):\n",
    "    for i in x:\n",
    "        if i['job'] == 'Director':\n",
    "            return i['name']\n",
    "    return np.nan"
   ]
  },
  {
   "cell_type": "code",
   "execution_count": 13,
   "id": "3927fdbc-f7d9-498f-937e-7e727a1bbc5a",
   "metadata": {
    "editable": true,
    "slideshow": {
     "slide_type": ""
    },
    "tags": []
   },
   "outputs": [],
   "source": [
    "small_df['director'] = small_df['crew'].apply(get_director)\n",
    "small_df['cast'] = small_df['cast'].apply(lambda x: [i['name'] for i in x] if isinstance(x, list) else [])\n",
    "small_df['cast'] = small_df['cast'].apply(lambda x: x[:3] if len(x) >=3 else x)\n",
    "small_df['keywords'] = small_df['keywords'].apply(lambda x: [i['name'] for i in x] if isinstance(x, list) else [])\n",
    "small_df['keywords'] = small_df['keywords'].apply(lambda x: ' '.join(x) if isinstance(x,list) else str(x))\n",
    "small_df['director'] = small_df['director'].astype('str').apply(lambda x: x.replace(\" \", \"\"))\n",
    "small_df['cast'] = small_df['cast'].apply(lambda x: [i.replace(\" \", \"\") for i in x]).apply(lambda x: ' '.join(x))\n",
    "small_df['genres'] = small_df['genres'].apply(lambda x: [i.replace(\" \", \"\") for i in x]).apply(lambda x: ' '.join(x))"
   ]
  },
  {
   "cell_type": "markdown",
   "id": "67307401-77e8-4fa5-94f3-91ae83d2a639",
   "metadata": {
    "scrolled": true
   },
   "source": [
    "## Formação da Sopa de Metadados"
   ]
  },
  {
   "cell_type": "code",
   "execution_count": 14,
   "id": "5126974b-7fb9-4156-9f0c-fc84faa53f30",
   "metadata": {
    "scrolled": true
   },
   "outputs": [
    {
     "data": {
      "text/plain": [
       "0    jealousy toy boy friendship friend rivalry boy...\n",
       "1    board game disappearance based child book new ...\n",
       "2    fishing best friend duringcreditsstinger old m...\n",
       "3    based novel interracial relationship single mo...\n",
       "4    baby midlife crisis confidence aging daughter ...\n",
       "Name: soup, dtype: object"
      ]
     },
     "execution_count": 14,
     "metadata": {},
     "output_type": "execute_result"
    }
   ],
   "source": [
    "small_df['soup'] = small_df['keywords'].apply(process_text) +' '+ small_df['cast'] +' '+small_df['director']+' '+small_df['director']+' '+small_df['director']+' '+ small_df['genres']\n",
    "small_df['soup'].head()"
   ]
  },
  {
   "cell_type": "markdown",
   "id": "3d2f5ff3-20e1-477c-ba46-901a1b2d92f5",
   "metadata": {},
   "source": [
    "## Vetorização Textual"
   ]
  },
  {
   "cell_type": "code",
   "execution_count": 15,
   "id": "2feda079-fe10-4ffb-acaa-5faf8151f5a8",
   "metadata": {
    "scrolled": true
   },
   "outputs": [
    {
     "data": {
      "text/plain": [
       "(9219, 120158)"
      ]
     },
     "execution_count": 15,
     "metadata": {},
     "output_type": "execute_result"
    }
   ],
   "source": [
    "tf = TfidfVectorizer(analyzer='word',ngram_range=(1, 2),min_df=0.0, stop_words='english')\n",
    "tfidf_matrix = tf.fit_transform(small_df['soup'])\n",
    "tfidf_matrix.shape"
   ]
  },
  {
   "cell_type": "markdown",
   "id": "fe449d44-8827-4d2f-b02c-9f75e2cecf64",
   "metadata": {},
   "source": [
    "## Calculando a Matriz de similaridade (Produto Interno)"
   ]
  },
  {
   "cell_type": "code",
   "execution_count": 16,
   "id": "ae8138cc-0f04-4be3-8452-5628ea67b02d",
   "metadata": {},
   "outputs": [
    {
     "data": {
      "text/plain": [
       "array([1.        , 0.00859809, 0.00962056, ..., 0.        , 0.        ,\n",
       "       0.        ])"
      ]
     },
     "execution_count": 16,
     "metadata": {},
     "output_type": "execute_result"
    }
   ],
   "source": [
    "cosine_sim = linear_kernel(tfidf_matrix, tfidf_matrix)\n",
    "cosine_sim[0]\n"
   ]
  },
  {
   "cell_type": "code",
   "execution_count": 17,
   "id": "4bc6c98d-7296-436f-9712-a9ed64f343b5",
   "metadata": {},
   "outputs": [],
   "source": [
    "small_df = small_df.reset_index()\n",
    "titles = small_df['title']\n",
    "indices = pd.Series(small_df.index, index=small_df['title'])"
   ]
  },
  {
   "cell_type": "markdown",
   "id": "ccf9245f-0b24-44cc-b768-8bcd8240ab2c",
   "metadata": {
    "editable": true,
    "slideshow": {
     "slide_type": ""
    },
    "tags": []
   },
   "source": [
    "## Recomendações Baseada em Conteúdo (Diretor, Atores, Descrição e Gênero)"
   ]
  },
  {
   "cell_type": "code",
   "execution_count": 92,
   "id": "e2d9aecd-f50f-4b10-a8bb-96cb4d10ca71",
   "metadata": {},
   "outputs": [],
   "source": [
    "def cont_recom(title, n=3):\n",
    "    idx = indices[title]\n",
    "    sim_scores = list(enumerate(cosine_sim[idx]))\n",
    "    sim_scores = sorted(sim_scores, key=lambda x: x[1], reverse=True)\n",
    "    sim_scores = sim_scores[1:n+1]\n",
    "    movie_indices = [i[0] for i in sim_scores]\n",
    "    return titles.iloc[movie_indices]"
   ]
  },
  {
   "cell_type": "code",
   "execution_count": 93,
   "id": "0ab43020-d3bc-4e1e-8acf-69a2ccfe6c67",
   "metadata": {},
   "outputs": [
    {
     "data": {
      "text/plain": [
       "3616    Tucker: The Man and His Dream\n",
       "1346                    The Rainmaker\n",
       "3300                 Gardens of Stone\n",
       "Name: title, dtype: object"
      ]
     },
     "execution_count": 93,
     "metadata": {},
     "output_type": "execute_result"
    }
   ],
   "source": [
    "cont_recom('The Godfather').head(10)"
   ]
  },
  {
   "cell_type": "code",
   "execution_count": 94,
   "id": "b8dab262-9e93-406d-afb2-f832d00decbe",
   "metadata": {},
   "outputs": [
    {
     "data": {
      "text/plain": [
       "8031    The Dark Knight Rises\n",
       "6218            Batman Begins\n",
       "6623             The Prestige\n",
       "Name: title, dtype: object"
      ]
     },
     "execution_count": 94,
     "metadata": {},
     "output_type": "execute_result"
    }
   ],
   "source": [
    "cont_recom('The Dark Knight').head(10)"
   ]
  },
  {
   "cell_type": "markdown",
   "id": "15486834-e6c1-42c2-a5b8-dc33e8d9927b",
   "metadata": {},
   "source": [
    "## Recomendações baseada em Ratings de Usuários "
   ]
  },
  {
   "cell_type": "code",
   "execution_count": 21,
   "id": "d1700441-bb6e-48a0-9157-2dc8a6550b2d",
   "metadata": {},
   "outputs": [],
   "source": [
    "ratings = pd.read_csv('ratings_small.csv')"
   ]
  },
  {
   "cell_type": "code",
   "execution_count": 22,
   "id": "f665e1b3-5029-453c-9c13-a49bec58f033",
   "metadata": {},
   "outputs": [
    {
     "data": {
      "text/html": [
       "<div>\n",
       "<style scoped>\n",
       "    .dataframe tbody tr th:only-of-type {\n",
       "        vertical-align: middle;\n",
       "    }\n",
       "\n",
       "    .dataframe tbody tr th {\n",
       "        vertical-align: top;\n",
       "    }\n",
       "\n",
       "    .dataframe thead th {\n",
       "        text-align: right;\n",
       "    }\n",
       "</style>\n",
       "<table border=\"1\" class=\"dataframe\">\n",
       "  <thead>\n",
       "    <tr style=\"text-align: right;\">\n",
       "      <th></th>\n",
       "      <th>userId</th>\n",
       "      <th>movieId</th>\n",
       "      <th>rating</th>\n",
       "      <th>timestamp</th>\n",
       "    </tr>\n",
       "  </thead>\n",
       "  <tbody>\n",
       "    <tr>\n",
       "      <th>0</th>\n",
       "      <td>1</td>\n",
       "      <td>31</td>\n",
       "      <td>2.5</td>\n",
       "      <td>1260759144</td>\n",
       "    </tr>\n",
       "    <tr>\n",
       "      <th>1</th>\n",
       "      <td>1</td>\n",
       "      <td>1029</td>\n",
       "      <td>3.0</td>\n",
       "      <td>1260759179</td>\n",
       "    </tr>\n",
       "    <tr>\n",
       "      <th>2</th>\n",
       "      <td>1</td>\n",
       "      <td>1061</td>\n",
       "      <td>3.0</td>\n",
       "      <td>1260759182</td>\n",
       "    </tr>\n",
       "    <tr>\n",
       "      <th>3</th>\n",
       "      <td>1</td>\n",
       "      <td>1129</td>\n",
       "      <td>2.0</td>\n",
       "      <td>1260759185</td>\n",
       "    </tr>\n",
       "    <tr>\n",
       "      <th>4</th>\n",
       "      <td>1</td>\n",
       "      <td>1172</td>\n",
       "      <td>4.0</td>\n",
       "      <td>1260759205</td>\n",
       "    </tr>\n",
       "  </tbody>\n",
       "</table>\n",
       "</div>"
      ],
      "text/plain": [
       "   userId  movieId  rating   timestamp\n",
       "0       1       31     2.5  1260759144\n",
       "1       1     1029     3.0  1260759179\n",
       "2       1     1061     3.0  1260759182\n",
       "3       1     1129     2.0  1260759185\n",
       "4       1     1172     4.0  1260759205"
      ]
     },
     "execution_count": 22,
     "metadata": {},
     "output_type": "execute_result"
    }
   ],
   "source": [
    "ratings.head()"
   ]
  },
  {
   "cell_type": "code",
   "execution_count": 23,
   "id": "68144528-3e72-4749-be25-caf9b1bf72fb",
   "metadata": {},
   "outputs": [],
   "source": [
    "ratings_matrix = pd.pivot_table(ratings,values='rating',columns=['movieId'], index=['userId'])\n",
    "ratings_matrix.fillna(0,inplace=True)"
   ]
  },
  {
   "cell_type": "code",
   "execution_count": 24,
   "id": "d80b7adb-ebfc-4dd7-9f45-606c3ba36ace",
   "metadata": {},
   "outputs": [
    {
     "data": {
      "text/html": [
       "<div>\n",
       "<style scoped>\n",
       "    .dataframe tbody tr th:only-of-type {\n",
       "        vertical-align: middle;\n",
       "    }\n",
       "\n",
       "    .dataframe tbody tr th {\n",
       "        vertical-align: top;\n",
       "    }\n",
       "\n",
       "    .dataframe thead th {\n",
       "        text-align: right;\n",
       "    }\n",
       "</style>\n",
       "<table border=\"1\" class=\"dataframe\">\n",
       "  <thead>\n",
       "    <tr style=\"text-align: right;\">\n",
       "      <th>userId</th>\n",
       "      <th>1</th>\n",
       "      <th>2</th>\n",
       "      <th>3</th>\n",
       "      <th>4</th>\n",
       "      <th>5</th>\n",
       "      <th>6</th>\n",
       "      <th>7</th>\n",
       "      <th>8</th>\n",
       "      <th>9</th>\n",
       "      <th>10</th>\n",
       "      <th>...</th>\n",
       "      <th>662</th>\n",
       "      <th>663</th>\n",
       "      <th>664</th>\n",
       "      <th>665</th>\n",
       "      <th>666</th>\n",
       "      <th>667</th>\n",
       "      <th>668</th>\n",
       "      <th>669</th>\n",
       "      <th>670</th>\n",
       "      <th>671</th>\n",
       "    </tr>\n",
       "    <tr>\n",
       "      <th>userId</th>\n",
       "      <th></th>\n",
       "      <th></th>\n",
       "      <th></th>\n",
       "      <th></th>\n",
       "      <th></th>\n",
       "      <th></th>\n",
       "      <th></th>\n",
       "      <th></th>\n",
       "      <th></th>\n",
       "      <th></th>\n",
       "      <th></th>\n",
       "      <th></th>\n",
       "      <th></th>\n",
       "      <th></th>\n",
       "      <th></th>\n",
       "      <th></th>\n",
       "      <th></th>\n",
       "      <th></th>\n",
       "      <th></th>\n",
       "      <th></th>\n",
       "      <th></th>\n",
       "    </tr>\n",
       "  </thead>\n",
       "  <tbody>\n",
       "    <tr>\n",
       "      <th>1</th>\n",
       "      <td>145.0</td>\n",
       "      <td>0.0</td>\n",
       "      <td>0.0</td>\n",
       "      <td>57.0</td>\n",
       "      <td>8.00</td>\n",
       "      <td>0.0</td>\n",
       "      <td>34.0</td>\n",
       "      <td>0.00</td>\n",
       "      <td>4.0</td>\n",
       "      <td>0.0</td>\n",
       "      <td>...</td>\n",
       "      <td>0.0</td>\n",
       "      <td>0.0</td>\n",
       "      <td>15.25</td>\n",
       "      <td>37.5</td>\n",
       "      <td>0.0</td>\n",
       "      <td>0.0</td>\n",
       "      <td>0.0</td>\n",
       "      <td>16.0</td>\n",
       "      <td>0.0</td>\n",
       "      <td>9.0</td>\n",
       "    </tr>\n",
       "    <tr>\n",
       "      <th>2</th>\n",
       "      <td>0.0</td>\n",
       "      <td>985.0</td>\n",
       "      <td>101.5</td>\n",
       "      <td>237.0</td>\n",
       "      <td>128.50</td>\n",
       "      <td>0.0</td>\n",
       "      <td>225.0</td>\n",
       "      <td>151.00</td>\n",
       "      <td>92.0</td>\n",
       "      <td>35.0</td>\n",
       "      <td>...</td>\n",
       "      <td>400.0</td>\n",
       "      <td>38.0</td>\n",
       "      <td>213.50</td>\n",
       "      <td>367.0</td>\n",
       "      <td>289.0</td>\n",
       "      <td>412.0</td>\n",
       "      <td>47.0</td>\n",
       "      <td>16.0</td>\n",
       "      <td>119.0</td>\n",
       "      <td>152.0</td>\n",
       "    </tr>\n",
       "    <tr>\n",
       "      <th>3</th>\n",
       "      <td>0.0</td>\n",
       "      <td>101.5</td>\n",
       "      <td>677.0</td>\n",
       "      <td>135.0</td>\n",
       "      <td>155.75</td>\n",
       "      <td>36.5</td>\n",
       "      <td>135.5</td>\n",
       "      <td>276.25</td>\n",
       "      <td>90.5</td>\n",
       "      <td>77.0</td>\n",
       "      <td>...</td>\n",
       "      <td>112.0</td>\n",
       "      <td>32.0</td>\n",
       "      <td>401.00</td>\n",
       "      <td>293.5</td>\n",
       "      <td>91.0</td>\n",
       "      <td>100.0</td>\n",
       "      <td>57.5</td>\n",
       "      <td>44.5</td>\n",
       "      <td>79.0</td>\n",
       "      <td>189.5</td>\n",
       "    </tr>\n",
       "  </tbody>\n",
       "</table>\n",
       "<p>3 rows × 671 columns</p>\n",
       "</div>"
      ],
      "text/plain": [
       "userId    1      2      3      4       5     6      7       8     9     10   \\\n",
       "userId                                                                        \n",
       "1       145.0    0.0    0.0   57.0    8.00   0.0   34.0    0.00   4.0   0.0   \n",
       "2         0.0  985.0  101.5  237.0  128.50   0.0  225.0  151.00  92.0  35.0   \n",
       "3         0.0  101.5  677.0  135.0  155.75  36.5  135.5  276.25  90.5  77.0   \n",
       "\n",
       "userId  ...    662   663     664    665    666    667   668   669    670  \\\n",
       "userId  ...                                                                \n",
       "1       ...    0.0   0.0   15.25   37.5    0.0    0.0   0.0  16.0    0.0   \n",
       "2       ...  400.0  38.0  213.50  367.0  289.0  412.0  47.0  16.0  119.0   \n",
       "3       ...  112.0  32.0  401.00  293.5   91.0  100.0  57.5  44.5   79.0   \n",
       "\n",
       "userId    671  \n",
       "userId         \n",
       "1         9.0  \n",
       "2       152.0  \n",
       "3       189.5  \n",
       "\n",
       "[3 rows x 671 columns]"
      ]
     },
     "execution_count": 24,
     "metadata": {},
     "output_type": "execute_result"
    }
   ],
   "source": [
    "users_cosine_sim = linear_kernel(ratings_matrix,ratings_matrix)\n",
    "users_cosine_sim = pd.DataFrame(users_cosine_sim, index=ratings_matrix.index, columns=ratings_matrix.index)\n",
    "users_cosine_sim.head(3)"
   ]
  },
  {
   "cell_type": "code",
   "execution_count": 25,
   "id": "41bbd8b7-74c5-4b14-96e4-38906a84139c",
   "metadata": {},
   "outputs": [],
   "source": [
    "links_small = pd.read_csv('links_small.csv')[['movieId', 'tmdbId']]\n",
    "links_small['tmdbId'] = links_small['tmdbId'].fillna(0).astype('int')\n",
    "links_small.columns = ['movieId', 'id']\n",
    "ID_table = pd.merge(right=small_df[['id','title']], left=links_small, on='id')"
   ]
  },
  {
   "cell_type": "code",
   "execution_count": 26,
   "id": "823328e0-58b5-43e4-825c-b6bd30e8629c",
   "metadata": {},
   "outputs": [
    {
     "data": {
      "text/plain": [
       "Index(['index', 'adult', 'belongs_to_collection', 'budget', 'genres',\n",
       "       'homepage', 'id', 'imdb_id', 'original_language', 'original_title',\n",
       "       'overview', 'popularity', 'poster_path', 'production_companies',\n",
       "       'production_countries', 'release_date', 'revenue', 'runtime',\n",
       "       'spoken_languages', 'status', 'tagline', 'title', 'video',\n",
       "       'vote_average', 'vote_count', 'year', 'cast', 'crew', 'keywords',\n",
       "       'description', 'cast_size', 'crew_size', 'director', 'soup', 'movieId'],\n",
       "      dtype='object')"
      ]
     },
     "execution_count": 26,
     "metadata": {},
     "output_type": "execute_result"
    }
   ],
   "source": [
    "small_df=small_df.merge(ID_table[['id','movieId']], on='id')\n",
    "small_df.columns"
   ]
  },
  {
   "cell_type": "code",
   "execution_count": 154,
   "id": "6025cafe-6743-4708-9807-adc4357be7be",
   "metadata": {},
   "outputs": [],
   "source": [
    "def users_recom(userId,n=3):\n",
    "    similar_users = users_cosine_sim[userId].sort_values(ascending=False).index[1:6] # 5 usuários mais parecidos\n",
    "    recom = ratings_matrix.loc[similar_users].mean().sort_values(ascending=False)\n",
    "    recom = recom.head(n).index.tolist() \n",
    "    final_users=[]\n",
    "    for mid in recom:\n",
    "        final_users.extend(small_df[small_df['movieId']==mid]['title'])\n",
    "    return pd.Series(final_users)"
   ]
  },
  {
   "cell_type": "code",
   "execution_count": 155,
   "id": "348a3b66-2d72-463a-b1a7-4e903f437ac6",
   "metadata": {},
   "outputs": [
    {
     "data": {
      "text/plain": [
       "0    The French Connection\n",
       "1          The Deer Hunter\n",
       "2                   Gandhi\n",
       "dtype: object"
      ]
     },
     "execution_count": 155,
     "metadata": {},
     "output_type": "execute_result"
    }
   ],
   "source": [
    "users_recom(1)"
   ]
  },
  {
   "cell_type": "markdown",
   "id": "a9f22a00-693b-4da7-80cd-3c3ba9dbf3cf",
   "metadata": {},
   "source": [
    "## Sistema Híbrido"
   ]
  },
  {
   "cell_type": "code",
   "execution_count": 164,
   "id": "6f6577cd-40ae-4bdf-97b1-e3d4090f143f",
   "metadata": {},
   "outputs": [],
   "source": [
    "def hibrid_recom(userId, n=5):\n",
    "    # Recomendação por usuário\n",
    "    recom_user = users_recom(userId)\n",
    "    # Refinada com conteúdo\n",
    "    final_rec = []\n",
    "    for movie_id in recom_user:\n",
    "        final_rec.extend(cont_recom(movie_id))\n",
    "    # Eliminar duplicatas(set) e filmes já vistos pelo usuário\n",
    "    vistos = ratings[ratings['userId'] == userId]['movieId'].tolist()\n",
    "    final_rec = pd.Series([m for m in final_rec if m not in vistos])\n",
    "    return final_rec.drop_duplicates()"
   ]
  },
  {
   "cell_type": "markdown",
   "id": "a1a9a736-c36a-4ef4-ac8a-98d1795741dd",
   "metadata": {},
   "source": [
    "## Testando para Usuários:\n",
    "- Recomendação por Usuário:"
   ]
  },
  {
   "cell_type": "code",
   "execution_count": 165,
   "id": "30c7ab74-9429-4212-92ee-9721d4eef07a",
   "metadata": {},
   "outputs": [
    {
     "data": {
      "text/plain": [
       "0     The French Connection\n",
       "1           The Deer Hunter\n",
       "2                    Gandhi\n",
       "3                     Dumbo\n",
       "4            Apocalypse Now\n",
       "5        Lawrence of Arabia\n",
       "6                GoodFellas\n",
       "7               Rear Window\n",
       "8    The Godfather: Part II\n",
       "9         Full Metal Jacket\n",
       "dtype: object"
      ]
     },
     "execution_count": 165,
     "metadata": {},
     "output_type": "execute_result"
    }
   ],
   "source": [
    "users_recom(1,10)"
   ]
  },
  {
   "cell_type": "markdown",
   "id": "138bfd94-c92b-4cad-9491-1c8803699110",
   "metadata": {},
   "source": [
    "- Recomendação por Conteúdo"
   ]
  },
  {
   "cell_type": "code",
   "execution_count": 168,
   "id": "89597222-bb9c-41cd-8302-c231f89f3573",
   "metadata": {},
   "outputs": [
    {
     "data": {
      "text/plain": [
       "2409               The Guardian\n",
       "4998    To Live and Die in L.A.\n",
       "118                        Jade\n",
       "374                  Blue Chips\n",
       "2823        Rules of Engagement\n",
       "3807                   Cruising\n",
       "5849                   Sorcerer\n",
       "8176                 Killer Joe\n",
       "7606               12 Angry Men\n",
       "4566                 The Hunted\n",
       "Name: title, dtype: object"
      ]
     },
     "execution_count": 168,
     "metadata": {},
     "output_type": "execute_result"
    }
   ],
   "source": [
    "cont_recom(users_recom(1)[0],10) # French Connection"
   ]
  },
  {
   "cell_type": "markdown",
   "id": "31a61d71-4fe2-4ebe-a196-f69690051f04",
   "metadata": {},
   "source": [
    "- Recomendação Híbrida: (Usuário + Conteúdo)"
   ]
  },
  {
   "cell_type": "code",
   "execution_count": 167,
   "id": "636797a3-8d5c-4c57-8df3-94777af5c632",
   "metadata": {},
   "outputs": [
    {
     "data": {
      "text/plain": [
       "0                 The Guardian\n",
       "1      To Live and Die in L.A.\n",
       "2                         Jade\n",
       "3    Thunderbolt and Lightfoot\n",
       "4               Uncommon Valor\n",
       "5             Gardens of Stone\n",
       "6             A Bridge Too Far\n",
       "7                  Cry Freedom\n",
       "8              In Love and War\n",
       "dtype: object"
      ]
     },
     "execution_count": 167,
     "metadata": {},
     "output_type": "execute_result"
    }
   ],
   "source": [
    "hibrid_recom(1)"
   ]
  }
 ],
 "metadata": {
  "kernelspec": {
   "display_name": "Python 3",
   "language": "python",
   "name": "python3"
  },
  "language_info": {
   "codemirror_mode": {
    "name": "ipython",
    "version": 3
   },
   "file_extension": ".py",
   "mimetype": "text/x-python",
   "name": "python",
   "nbconvert_exporter": "python",
   "pygments_lexer": "ipython3",
   "version": "3.11.4"
  },
  "toc": {
   "base_numbering": -2
  }
 },
 "nbformat": 4,
 "nbformat_minor": 5
}
